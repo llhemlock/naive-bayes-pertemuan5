{
 "cells": [
  {
   "cell_type": "code",
   "execution_count": 1,
   "metadata": {},
   "outputs": [],
   "source": [
    "import pandas as pd"
   ]
  },
  {
   "cell_type": "code",
   "execution_count": 2,
   "metadata": {},
   "outputs": [],
   "source": [
    "data = pd.read_csv('/Users/relax/Documents/Data.csv')"
   ]
  },
  {
   "cell_type": "code",
   "execution_count": 3,
   "metadata": {},
   "outputs": [],
   "source": [
    "# menghitung probabilitas per-kelas\n",
    "total = data.shape[0]\n",
    "class_counts = data['Beli Komputer'].value_counts()\n",
    "class_probs = {}\n",
    "for cls in class_counts.index:\n",
    "    class_probs[cls] = class_counts[cls] / total"
   ]
  },
  {
   "cell_type": "code",
   "execution_count": 4,
   "metadata": {},
   "outputs": [],
   "source": [
    "# menghitung probabilitas yang kondisional\n",
    "cond_probs = {}\n",
    "for col in data.columns[:-1]:\n",
    "    for cls in class_probs.keys():\n",
    "        df = data[data['Beli Komputer'] == cls]\n",
    "        value_counts = df[col].value_counts()\n",
    "        for val in value_counts.index:\n",
    "            key = f'{col}={val}|{cls}'\n",
    "            cond_probs[key] = value_counts[val] / class_counts[cls]"
   ]
  },
  {
   "cell_type": "code",
   "execution_count": 5,
   "metadata": {},
   "outputs": [
    {
     "name": "stdout",
     "output_type": "stream",
     "text": [
      "Predicted class: tidak\n"
     ]
    }
   ],
   "source": [
    "#prediksi\n",
    "X = {'Umur': '<=30', 'Pendapatan': 'sedang', 'Mhs': 'ya', 'Rating Kredit': 'Fair'}\n",
    "pred_probs = {}\n",
    "for cls in class_probs.keys():\n",
    "    pred_probs[cls] = class_probs[cls]\n",
    "    for col, val in X.items():\n",
    "        key = f'{col}={val}|{cls}'\n",
    "        if key in cond_probs:\n",
    "            pred_probs[cls] *= cond_probs[key]\n",
    "\n",
    "predicted_class = max(pred_probs, key=pred_probs.get)\n",
    "print('Predicted class:', predicted_class)\n"
   ]
  }
 ],
 "metadata": {
  "kernelspec": {
   "display_name": "Python 3",
   "language": "python",
   "name": "python3"
  },
  "language_info": {
   "codemirror_mode": {
    "name": "ipython",
    "version": 3
   },
   "file_extension": ".py",
   "mimetype": "text/x-python",
   "name": "python",
   "nbconvert_exporter": "python",
   "pygments_lexer": "ipython3",
   "version": "3.11.3"
  },
  "orig_nbformat": 4
 },
 "nbformat": 4,
 "nbformat_minor": 2
}
